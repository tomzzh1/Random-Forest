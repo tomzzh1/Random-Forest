{
 "cells": [
  {
   "cell_type": "code",
   "execution_count": 1,
   "metadata": {},
   "outputs": [],
   "source": [
    "import pandas as pd\n",
    "from matplotlib import pyplot as plt\n",
    "from sklearn.tree import DecisionTreeClassifier, plot_tree\n",
    "from sklearn import tree\n",
    "import random"
   ]
  },
  {
   "cell_type": "markdown",
   "metadata": {},
   "source": [
    "#### Random Forest Algorithum\n",
    "\n",
    "> Boostrap the data to generate a data to fit a decision tree\n",
    "\n",
    "> Before making a decision tree, the algorithum will shuffle and randomly select the subset the variables\n",
    "\n",
    "> Then, the algorithum will select the best variables based on gini index or node impurity\n",
    "\n",
    "> Once algorithum builds enough trees, the prediction is separately by regression and classification\n",
    "\n",
    "> Average of all trees is regression\n",
    "\n",
    "> Majority of all trees is the prediction"
   ]
  },
  {
   "cell_type": "code",
   "execution_count": 2,
   "metadata": {},
   "outputs": [
    {
     "data": {
      "text/html": [
       "<div>\n",
       "<style scoped>\n",
       "    .dataframe tbody tr th:only-of-type {\n",
       "        vertical-align: middle;\n",
       "    }\n",
       "\n",
       "    .dataframe tbody tr th {\n",
       "        vertical-align: top;\n",
       "    }\n",
       "\n",
       "    .dataframe thead th {\n",
       "        text-align: right;\n",
       "    }\n",
       "</style>\n",
       "<table border=\"1\" class=\"dataframe\">\n",
       "  <thead>\n",
       "    <tr style=\"text-align: right;\">\n",
       "      <th></th>\n",
       "      <th>Chest Pain</th>\n",
       "      <th>Good Blood Circulation.</th>\n",
       "      <th>Block Arteries</th>\n",
       "      <th>Weights</th>\n",
       "      <th>Heart Disease</th>\n",
       "    </tr>\n",
       "  </thead>\n",
       "  <tbody>\n",
       "    <tr>\n",
       "      <th>0</th>\n",
       "      <td>0</td>\n",
       "      <td>0</td>\n",
       "      <td>0</td>\n",
       "      <td>125</td>\n",
       "      <td>0</td>\n",
       "    </tr>\n",
       "    <tr>\n",
       "      <th>1</th>\n",
       "      <td>1</td>\n",
       "      <td>1</td>\n",
       "      <td>1</td>\n",
       "      <td>180</td>\n",
       "      <td>1</td>\n",
       "    </tr>\n",
       "    <tr>\n",
       "      <th>2</th>\n",
       "      <td>1</td>\n",
       "      <td>1</td>\n",
       "      <td>0</td>\n",
       "      <td>210</td>\n",
       "      <td>0</td>\n",
       "    </tr>\n",
       "    <tr>\n",
       "      <th>3</th>\n",
       "      <td>1</td>\n",
       "      <td>0</td>\n",
       "      <td>1</td>\n",
       "      <td>167</td>\n",
       "      <td>1</td>\n",
       "    </tr>\n",
       "  </tbody>\n",
       "</table>\n",
       "</div>"
      ],
      "text/plain": [
       "   Chest Pain  Good Blood Circulation.  Block Arteries  Weights  Heart Disease\n",
       "0           0                        0               0      125              0\n",
       "1           1                        1               1      180              1\n",
       "2           1                        1               0      210              0\n",
       "3           1                        0               1      167              1"
      ]
     },
     "execution_count": 2,
     "metadata": {},
     "output_type": "execute_result"
    }
   ],
   "source": [
    "data = pd.DataFrame({'Chest Pain': [0,1,1,1],\n",
    "                    'Good Blood Circulation.':[0,1,1,0],\n",
    "                     'Block Arteries': [0,1,0,1],\n",
    "                     'Weights':[125,180,210,167],\n",
    "                     'Heart Disease':[0,1,0,1]\n",
    "                    })\n",
    "data"
   ]
  },
  {
   "cell_type": "markdown",
   "metadata": {},
   "source": [
    "####  Generate a bootstrap sample with replacement"
   ]
  },
  {
   "cell_type": "code",
   "execution_count": 3,
   "metadata": {},
   "outputs": [
    {
     "data": {
      "text/html": [
       "<div>\n",
       "<style scoped>\n",
       "    .dataframe tbody tr th:only-of-type {\n",
       "        vertical-align: middle;\n",
       "    }\n",
       "\n",
       "    .dataframe tbody tr th {\n",
       "        vertical-align: top;\n",
       "    }\n",
       "\n",
       "    .dataframe thead th {\n",
       "        text-align: right;\n",
       "    }\n",
       "</style>\n",
       "<table border=\"1\" class=\"dataframe\">\n",
       "  <thead>\n",
       "    <tr style=\"text-align: right;\">\n",
       "      <th></th>\n",
       "      <th>Chest Pain</th>\n",
       "      <th>Good Blood Circulation.</th>\n",
       "      <th>Block Arteries</th>\n",
       "      <th>Weights</th>\n",
       "      <th>Heart Disease</th>\n",
       "    </tr>\n",
       "  </thead>\n",
       "  <tbody>\n",
       "    <tr>\n",
       "      <th>1</th>\n",
       "      <td>1</td>\n",
       "      <td>1</td>\n",
       "      <td>1</td>\n",
       "      <td>180</td>\n",
       "      <td>1</td>\n",
       "    </tr>\n",
       "    <tr>\n",
       "      <th>1</th>\n",
       "      <td>1</td>\n",
       "      <td>1</td>\n",
       "      <td>1</td>\n",
       "      <td>180</td>\n",
       "      <td>1</td>\n",
       "    </tr>\n",
       "    <tr>\n",
       "      <th>1</th>\n",
       "      <td>1</td>\n",
       "      <td>1</td>\n",
       "      <td>1</td>\n",
       "      <td>180</td>\n",
       "      <td>1</td>\n",
       "    </tr>\n",
       "    <tr>\n",
       "      <th>2</th>\n",
       "      <td>1</td>\n",
       "      <td>1</td>\n",
       "      <td>0</td>\n",
       "      <td>210</td>\n",
       "      <td>0</td>\n",
       "    </tr>\n",
       "  </tbody>\n",
       "</table>\n",
       "</div>"
      ],
      "text/plain": [
       "   Chest Pain  Good Blood Circulation.  Block Arteries  Weights  Heart Disease\n",
       "1           1                        1               1      180              1\n",
       "1           1                        1               1      180              1\n",
       "1           1                        1               1      180              1\n",
       "2           1                        1               0      210              0"
      ]
     },
     "execution_count": 3,
     "metadata": {},
     "output_type": "execute_result"
    }
   ],
   "source": [
    "temp = data.sample(4, replace=True)\n",
    "temp"
   ]
  },
  {
   "cell_type": "markdown",
   "metadata": {},
   "source": [
    "#### Create a decision tree using the bootstrap dataset, but only use a subset of variables at each step\n",
    "\n",
    "- we randomly select Good Blood Circulation, Blocked Arteries\n",
    "- Since our example is very small, a small tree is enough, if we split further when we encounter large data, we only randomly select subset of variables at each split"
   ]
  },
  {
   "cell_type": "code",
   "execution_count": 12,
   "metadata": {},
   "outputs": [
    {
     "name": "stdout",
     "output_type": "stream",
     "text": [
      "['Chest Pain', 'Good Blood Circulation.']\n"
     ]
    },
    {
     "data": {
      "image/png": "[encoded data removed]",
      "text/plain": [
       "<Figure size 360x288 with 1 Axes>"
      ]
     },
     "metadata": {
      "needs_background": "light"
     },
     "output_type": "display_data"
    }
   ],
   "source": [
    "var1= random.sample(list(data)[:-1],2)\n",
    "print(var1)\n",
    "X = temp[var1]\n",
    "\n",
    "y = temp['Heart Disease']\n",
    "\n",
    "tree1 = DecisionTreeClassifier()\n",
    "tree1 = tree1.fit(X, y)\n",
    "\n",
    "fig = plt.figure(figsize=(5,4))\n",
    "_ = tree.plot_tree(tree1, feature_names = X.columns, class_names = ['No', 'Yes'], filled = True)"
   ]
  },
  {
   "cell_type": "markdown",
   "metadata": {},
   "source": [
    "####  Now we repeat the previous step \n",
    "> 1. Generate another bootstrap Data, \n",
    "> 2. Select another set of variables to split"
   ]
  },
  {
   "cell_type": "code",
   "execution_count": 13,
   "metadata": {},
   "outputs": [
    {
     "name": "stdout",
     "output_type": "stream",
     "text": [
      "['Weights', 'Block Arteries']\n"
     ]
    },
    {
     "data": {
      "image/png": "[encoded data removed]",
      "text/plain": [
       "<Figure size 432x360 with 1 Axes>"
      ]
     },
     "metadata": {
      "needs_background": "light"
     },
     "output_type": "display_data"
    }
   ],
   "source": [
    "temp = data.sample(4, replace=True)\n",
    "var2= random.sample(list(data)[:-1],2)\n",
    "print(var2)\n",
    "X = temp[var2]\n",
    "y = temp['Heart Disease']\n",
    "\n",
    "tree2 = DecisionTreeClassifier()\n",
    "tree2 = tree2.fit(X, y)\n",
    "\n",
    "fig = plt.figure(figsize=(6,5))\n",
    "_ = tree.plot_tree(tree2, feature_names = X.columns, class_names = ['No', 'Yes'], filled = True)"
   ]
  },
  {
   "cell_type": "markdown",
   "metadata": {},
   "source": [
    "#### Now we repeat the previous step to build a third one\n",
    "> 1. Generate another bootstrap Data, \n",
    "> 2. Select another set of variables to split"
   ]
  },
  {
   "cell_type": "code",
   "execution_count": 14,
   "metadata": {},
   "outputs": [
    {
     "name": "stdout",
     "output_type": "stream",
     "text": [
      "['Chest Pain', 'Weights']\n"
     ]
    },
    {
     "data": {
      "image/png": "[encoded data removed]",
      "text/plain": [
       "<Figure size 504x360 with 1 Axes>"
      ]
     },
     "metadata": {
      "needs_background": "light"
     },
     "output_type": "display_data"
    }
   ],
   "source": [
    "temp = data.sample(4, replace=True)\n",
    "var3= random.sample(list(data)[:-1],2)\n",
    "print(var3)\n",
    "X = temp[var3]\n",
    "y = temp['Heart Disease']\n",
    "\n",
    "tree3 = DecisionTreeClassifier()\n",
    "tree3 = tree2.fit(X, y)\n",
    "\n",
    "fig = plt.figure(figsize=(7,5))\n",
    "_ = tree.plot_tree(tree3, feature_names = X.columns, class_names = ['No', 'Yes'], filled = True)"
   ]
  },
  {
   "cell_type": "markdown",
   "metadata": {},
   "source": [
    "#### Now we make a prediction on a new row\n",
    "\n",
    "**Using the three tree that we just made**"
   ]
  },
  {
   "cell_type": "code",
   "execution_count": 15,
   "metadata": {},
   "outputs": [
    {
     "data": {
      "text/html": [
       "<div>\n",
       "<style scoped>\n",
       "    .dataframe tbody tr th:only-of-type {\n",
       "        vertical-align: middle;\n",
       "    }\n",
       "\n",
       "    .dataframe tbody tr th {\n",
       "        vertical-align: top;\n",
       "    }\n",
       "\n",
       "    .dataframe thead th {\n",
       "        text-align: right;\n",
       "    }\n",
       "</style>\n",
       "<table border=\"1\" class=\"dataframe\">\n",
       "  <thead>\n",
       "    <tr style=\"text-align: right;\">\n",
       "      <th></th>\n",
       "      <th>Chest Pain</th>\n",
       "      <th>Good Blood Circulation.</th>\n",
       "      <th>Block Arteries</th>\n",
       "      <th>Weights</th>\n",
       "    </tr>\n",
       "  </thead>\n",
       "  <tbody>\n",
       "    <tr>\n",
       "      <th>0</th>\n",
       "      <td>1</td>\n",
       "      <td>0</td>\n",
       "      <td>0</td>\n",
       "      <td>168</td>\n",
       "    </tr>\n",
       "  </tbody>\n",
       "</table>\n",
       "</div>"
      ],
      "text/plain": [
       "   Chest Pain  Good Blood Circulation.  Block Arteries  Weights\n",
       "0           1                        0               0      168"
      ]
     },
     "execution_count": 15,
     "metadata": {},
     "output_type": "execute_result"
    }
   ],
   "source": [
    "new = pd.DataFrame({'Chest Pain': [1],\n",
    "                    'Good Blood Circulation.':[0],\n",
    "                     'Block Arteries': [0,],\n",
    "                     'Weights':[168]\n",
    "                    })\n",
    "new"
   ]
  },
  {
   "cell_type": "markdown",
   "metadata": {},
   "source": [
    "#### Let us use the first tree to predict "
   ]
  },
  {
   "cell_type": "code",
   "execution_count": 16,
   "metadata": {},
   "outputs": [
    {
     "name": "stdout",
     "output_type": "stream",
     "text": [
      "The variables that 1st tree need    Chest Pain  Good Blood Circulation.\n",
      "0           1                        0 \n",
      "\n",
      "1st tree predict Heart Disease\n"
     ]
    }
   ],
   "source": [
    "print('The variables that 1st tree need',new[var1], '\\n')\n",
    "\n",
    "pred = tree1.predict(new[var1])\n",
    "\n",
    "if pred[0] == 1:\n",
    "    print('1st tree predict Heart Disease')\n",
    "else:\n",
    "    print('1st tree predict No Heart Disease')\n",
    "    "
   ]
  },
  {
   "cell_type": "markdown",
   "metadata": {},
   "source": [
    "#### Let us use the second tree to predict "
   ]
  },
  {
   "cell_type": "code",
   "execution_count": 17,
   "metadata": {},
   "outputs": [
    {
     "name": "stdout",
     "output_type": "stream",
     "text": [
      "The variables that 2nd tree need    Chest Pain  Good Blood Circulation.\n",
      "0           1                        0 \n",
      "\n",
      "2nd tree predict Heart Disease\n"
     ]
    }
   ],
   "source": [
    "print('The variables that 2nd tree need',new[var1], '\\n')\n",
    "\n",
    "pred = tree2.predict(new[var2])\n",
    "\n",
    "if pred[0] == 1:\n",
    "    print('2nd tree predict Heart Disease')\n",
    "else:\n",
    "    print('2nd tree predict No Heart Disease')"
   ]
  },
  {
   "cell_type": "markdown",
   "metadata": {},
   "source": [
    "#### Let us use the third tree to predict "
   ]
  },
  {
   "cell_type": "code",
   "execution_count": 18,
   "metadata": {},
   "outputs": [
    {
     "name": "stdout",
     "output_type": "stream",
     "text": [
      "The variables that 3rd tree need    Chest Pain  Good Blood Circulation.\n",
      "0           1                        0 \n",
      "\n",
      "3rd tree predict Heart Disease\n"
     ]
    }
   ],
   "source": [
    "print('The variables that 3rd tree need',new[var1], '\\n')\n",
    "\n",
    "pred = tree3.predict(new[var3])\n",
    "\n",
    "if pred[0] == 1:\n",
    "    print('3rd tree predict Heart Disease')\n",
    "else:\n",
    "    print('3rd tree predict No Heart Disease')"
   ]
  },
  {
   "cell_type": "markdown",
   "metadata": {},
   "source": [
    "#### For the classification task, random forest will take a vote, the label with majority votes will be the prediction\n",
    "\n",
    "#### For the regression task, random forest will take the average of all the predictions the trees made"
   ]
  },
  {
   "cell_type": "code",
   "execution_count": 19,
   "metadata": {},
   "outputs": [
    {
     "name": "stdout",
     "output_type": "stream",
     "text": [
      "Predict Heart Disease\n"
     ]
    }
   ],
   "source": [
    "if sum(tree3.predict(new[var3])+tree2.predict(new[var2])+ tree1.predict(new[var1])) >=2:\n",
    "    print('Predict Heart Disease')\n",
    "else:\n",
    "    print('Predict No Heart Disease')"
   ]
  }
 ],
 "metadata": {
  "kernelspec": {
   "display_name": "Python 3",
   "language": "python",
   "name": "python3"
  },
  "language_info": {
   "codemirror_mode": {
    "name": "ipython",
    "version": 3
   },
   "file_extension": ".py",
   "mimetype": "text/x-python",
   "name": "python",
   "nbconvert_exporter": "python",
   "pygments_lexer": "ipython3",
   "version": "3.7.9"
  },
  "toc": {
   "base_numbering": 1,
   "nav_menu": {},
   "number_sections": true,
   "sideBar": true,
   "skip_h1_title": false,
   "title_cell": "Table of Contents",
   "title_sidebar": "Contents",
   "toc_cell": false,
   "toc_position": {},
   "toc_section_display": true,
   "toc_window_display": false
  }
 },
 "nbformat": 4,
 "nbformat_minor": 4
}
